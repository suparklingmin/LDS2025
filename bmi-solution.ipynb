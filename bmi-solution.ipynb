{
 "cells": [
  {
   "cell_type": "markdown",
   "id": "9fc80a7c",
   "metadata": {},
   "source": [
    "# [숙제03] NumPy 연습\n",
    "\n",
    "+ 언어데이터과학\n",
    "+ 공개 일자: 2025-09-15\n",
    "+ 제출 마감: 2025-09-19 12:00 PM"
   ]
  },
  {
   "cell_type": "markdown",
   "id": "5c246ce4",
   "metadata": {},
   "source": [
    "## 코드 작성 시 주의사항\n",
    "\n",
    "+ 반복문(`for` loop)나 list comprehension을 사용하지 않는다.\n",
    "+ Q8을 제외하면 `np.array()` 외에 다른 numpy 함수나 메서드를 사용하지 않는다."
   ]
  },
  {
   "cell_type": "markdown",
   "id": "7cbef4e5",
   "metadata": {},
   "source": [
    "## NumPy 패키지 가져오기"
   ]
  },
  {
   "cell_type": "code",
   "execution_count": 1,
   "id": "cecaa60c",
   "metadata": {},
   "outputs": [],
   "source": [
    "import numpy as np"
   ]
  },
  {
   "cell_type": "markdown",
   "id": "536de66d",
   "metadata": {},
   "source": [
    "## 기술통계량 계산하기"
   ]
  },
  {
   "cell_type": "code",
   "execution_count": null,
   "id": "7e8fb2df",
   "metadata": {},
   "outputs": [],
   "source": [
    "# mean\n",
    "def mean(x:np.ndarray):\n",
    "    return sum(x) / len(x)\n",
    "\n",
    "# deviation\n",
    "def dev(x:np.ndarray):\n",
    "    return x - mean(x) # [Q1] 0.5 point\n",
    "\n",
    "# standard deviation\n",
    "def std(x:np.ndarray):\n",
    "    return (sum(dev(x)**2) / (len(x)-1)) ** (1/2) # [Q2] 0.5 point\n",
    "\n",
    "# covariance\n",
    "def cov(x:np.ndarray, y:np.ndarray):\n",
    "    return sum(dev(x)*dev(y)) / (len(x)-1) # [Q3] 0.5 point\n",
    "\n",
    "# correlation\n",
    "def cor(x:np.ndarray, y:np.ndarray):\n",
    "    return cov(x, y) / (std(x) * std(y))\n"
   ]
  },
  {
   "cell_type": "markdown",
   "id": "a6e46dc5",
   "metadata": {},
   "source": [
    "Dataset (http://wiki.stat.ucla.edu/socr/index.php/SOCR_Data_Dinov_020108_HeightsWeights)"
   ]
  },
  {
   "cell_type": "code",
   "execution_count": null,
   "id": "8207eec5",
   "metadata": {},
   "outputs": [
    {
     "name": "stdout",
     "output_type": "stream",
     "text": [
      "correlation between height and weight: 0.5709208208072762\n"
     ]
    }
   ],
   "source": [
    "# height in inches\n",
    "height = [\n",
    "    65.78, 71.52, 69.40, 68.22, 67.79,\n",
    "    68.70, 69.80, 70.01, 67.90, 66.78,\n",
    "    66.49, 67.62, 68.30, 67.12, 68.28,\n",
    "    71.09, 66.46, 68.65, 71.23, 67.13,    \n",
    "]\n",
    "height = np.array(height)\n",
    "\n",
    "# weight in pounds\n",
    "weight = [\n",
    "    112.99, 136.49, 153.03, 142.34, 144.30,\n",
    "    123.30, 141.49, 136.46, 112.37, 120.67,\n",
    "    127.45, 114.14, 125.61, 122.46, 116.09,\n",
    "    140.00, 129.50, 142.97, 137.90, 124.04,\n",
    "]\n",
    "weight = np.array(weight)\n",
    "\n",
    "print('correlation between height and weight:', cor(height, weight)) # [Q4] 0.5 pt\n",
    "## 0.5709208208072762"
   ]
  },
  {
   "cell_type": "markdown",
   "id": "4b1d33fa",
   "metadata": {},
   "source": [
    "## BMI 계산하기"
   ]
  },
  {
   "cell_type": "code",
   "execution_count": null,
   "id": "139682b2",
   "metadata": {},
   "outputs": [
    {
     "name": "stdout",
     "output_type": "stream",
     "text": [
      "who has the lowest BMI: 8\n"
     ]
    }
   ],
   "source": [
    "# convert inch to meter\n",
    "height = height / 39.37 # [Q5] 0.5 pt\n",
    "\n",
    "# convert pound to kilogram\n",
    "weight = weight / 2.205 # [Q6] 0.5 pt\n",
    "\n",
    "# calculate BMI (Body mass index)\n",
    "bmi = weight / (height ** 2) # [Q7] 0.5 pt\n",
    "\n",
    "print('who has the lowest BMI:', bmi.argmin()) # [Q8] 0.5 pt\n",
    "## 8"
   ]
  }
 ],
 "metadata": {
  "kernelspec": {
   "display_name": "base",
   "language": "python",
   "name": "python3"
  },
  "language_info": {
   "codemirror_mode": {
    "name": "ipython",
    "version": 3
   },
   "file_extension": ".py",
   "mimetype": "text/x-python",
   "name": "python",
   "nbconvert_exporter": "python",
   "pygments_lexer": "ipython3",
   "version": "3.12.4"
  }
 },
 "nbformat": 4,
 "nbformat_minor": 5
}
